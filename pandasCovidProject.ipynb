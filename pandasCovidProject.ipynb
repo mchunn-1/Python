{
 "cells": [
  {
   "cell_type": "markdown",
   "id": "75aec70a",
   "metadata": {},
   "source": [
    "## Purpose: \n",
    "\n",
    "Examining the relationship between states with high covid-related death rates and states with high poverty, limited education, and no health insurance. "
   ]
  },
  {
   "cell_type": "code",
   "execution_count": 429,
   "id": "3110df69",
   "metadata": {},
   "outputs": [],
   "source": [
    "import pandas as pd"
   ]
  },
  {
   "cell_type": "markdown",
   "id": "2f735f66",
   "metadata": {},
   "source": [
    "# TOTAL COVID DEATHS OVER 1 YEAR"
   ]
  },
  {
   "cell_type": "code",
   "execution_count": 400,
   "id": "15152884",
   "metadata": {},
   "outputs": [],
   "source": [
    "#the file located on the desktop is opened and read as df\n",
    "df = pd.read_csv(\"/Users/morganchunn/Desktop/time_series_covid19_deaths (states).csv\")\n",
    "#the dataframe is grouped by the coulumn \"Province_State\" \n",
    "num_state = df.groupby(\"Province_State\").sum()\n",
    "#just the columns between the 2 dates are selected for\n",
    "num_state_year = num_state.loc[:,\"6/1/20\":\"6/1/21\"]\n",
    "#will find the number of cases between thhe 2 dates\n",
    "state_num_increase = num_state_year[\"6/1/21\"].sub(num_state_summer['6/1/20'], axis = 0)\n",
    "#selects for the top top 10 values \n",
    "deaths = state_num_increase.sort_values(ascending=False).head(10)\n",
    "df\n",
    "\n"
   ]
  },
  {
   "cell_type": "markdown",
   "id": "f14aa032",
   "metadata": {},
   "source": [
    "Graph depicting the top 10 states with the greatest number of covid related deaths over the span of 1 year"
   ]
  },
  {
   "cell_type": "code",
   "execution_count": 401,
   "id": "c9c7b62d",
   "metadata": {},
   "outputs": [
    {
     "data": {
      "text/plain": [
       "<AxesSubplot:title={'center':'States with Greatest Number of Covid Related Deaths'}, ylabel='State'>"
      ]
     },
     "execution_count": 401,
     "metadata": {},
     "output_type": "execute_result"
    },
    {
     "data": {
      "image/png": "[encoded data removed]",
      "text/plain": [
       "<Figure size 432x288 with 1 Axes>"
      ]
     },
     "metadata": {
      "needs_background": "light"
     },
     "output_type": "display_data"
    }
   ],
   "source": [
    "#plots a horizontal bar graph of data represented by deaths variable \n",
    "deaths.plot.barh(xlabel=\"State\", title= \"States with Greatest Number of Covid Related Deaths\", color = \"indianred\")\n",
    "                                                                                                                                                                                                                                 "
   ]
  },
  {
   "cell_type": "markdown",
   "id": "7735e919",
   "metadata": {},
   "source": [
    "Normilizing Data to use for comparison "
   ]
  },
  {
   "cell_type": "code",
   "execution_count": 403,
   "id": "432c7f21",
   "metadata": {},
   "outputs": [
    {
     "data": {
      "text/plain": [
       "Province_State\n",
       "California      1.000000\n",
       "Texas           0.807728\n",
       "Florida         0.456240\n",
       "New York        0.180069\n",
       "Pennsylvania    0.161384\n",
       "Illinois        0.119723\n",
       "Georgia         0.094879\n",
       "Ohio            0.081361\n",
       "Arizona         0.047958\n",
       "Michigan        0.000000\n",
       "dtype: float64"
      ]
     },
     "execution_count": 403,
     "metadata": {},
     "output_type": "execute_result"
    }
   ],
   "source": [
    "#formula to normalize the data\n",
    "norm_death_data = (deaths-deaths.min())/(deaths.max()-deaths.min())  \n",
    "norm_death_data"
   ]
  },
  {
   "cell_type": "markdown",
   "id": "efef0f91",
   "metadata": {},
   "source": [
    "# HOUSES BELOW POVERTY LINE "
   ]
  },
  {
   "cell_type": "markdown",
   "id": "15bcac63",
   "metadata": {},
   "source": [
    "The below cell will show the top 10 states with the highest number of houses below the poverty line. "
   ]
  },
  {
   "cell_type": "code",
   "execution_count": 404,
   "id": "4945c2a1",
   "metadata": {},
   "outputs": [],
   "source": [
    "poverty_data  = pd.read_csv(\"/Users/morganchunn/Desktop/Population_and_Poverty_Status (States).csv\")\n",
    "#the poverty data has its index set to \"State\" and the values are sorted descendingly by the given column name \n",
    "pov = poverty_data.set_index(\"State\").sort_values(by=\"Total Households Below the Poverty Level\", ascending=False)\n",
    "#just the top 10 values pertaining the specific column are selected for \n",
    "poverty_households= pov.loc[:,\"Total Households Below the Poverty Level\"].head(10)\n",
    "\n"
   ]
  },
  {
   "cell_type": "markdown",
   "id": "fe5b59d5",
   "metadata": {},
   "source": [
    "Graph depicting the top 10 states with the greatest number of houses below the poverty line. "
   ]
  },
  {
   "cell_type": "code",
   "execution_count": 405,
   "id": "397f7c08",
   "metadata": {},
   "outputs": [
    {
     "data": {
      "text/plain": [
       "<AxesSubplot:title={'center':'States with Greatest Number of Houses Below the Poverty Line'}, ylabel='State'>"
      ]
     },
     "execution_count": 405,
     "metadata": {},
     "output_type": "execute_result"
    },
    {
     "data": {
      "image/png": "[encoded data removed]",
      "text/plain": [
       "<Figure size 432x288 with 1 Axes>"
      ]
     },
     "metadata": {
      "needs_background": "light"
     },
     "output_type": "display_data"
    }
   ],
   "source": [
    "poverty_households.plot.barh(xlabel=\"State\", title= \"States with Greatest Number of Houses Below the Poverty Line\", color = \"lightseagreen\")\n"
   ]
  },
  {
   "cell_type": "markdown",
   "id": "abc02bd4",
   "metadata": {},
   "source": [
    "Normilizing Data to use for comparison "
   ]
  },
  {
   "cell_type": "code",
   "execution_count": 406,
   "id": "9e66a5c3",
   "metadata": {},
   "outputs": [
    {
     "data": {
      "text/plain": [
       "State\n",
       "California        1.000000\n",
       "Texas             0.725761\n",
       "Florida           0.450282\n",
       "New York          0.441601\n",
       "Ohio              0.095119\n",
       "Pennsylvania      0.070198\n",
       "Illinois          0.055990\n",
       "North Carolina    0.014406\n",
       "Georgia           0.000056\n",
       "Puerto Rico       0.000000\n",
       "Name: Total Households Below the Poverty Level, dtype: float64"
      ]
     },
     "execution_count": 406,
     "metadata": {},
     "output_type": "execute_result"
    }
   ],
   "source": [
    "#formula for normilization\n",
    "norm_poverty_data = (poverty_households-poverty_households.min())/(poverty_households.max()-poverty_households.min())\n",
    "norm_poverty_data"
   ]
  },
  {
   "cell_type": "markdown",
   "id": "0ba40a7d",
   "metadata": {},
   "source": [
    "# Comparing States with High Covid Related Deaths to States with High Poverty Rates:\n",
    "This depicts how many of the top 10 states with houses below the poverty line are in the top 10 states with the most covid deaths."
   ]
  },
  {
   "cell_type": "code",
   "execution_count": 407,
   "id": "9a2063ca",
   "metadata": {
    "scrolled": true
   },
   "outputs": [
    {
     "data": {
      "text/plain": [
       "True     8\n",
       "False    2\n",
       "Name: State, dtype: int64"
      ]
     },
     "execution_count": 407,
     "metadata": {},
     "output_type": "execute_result"
    }
   ],
   "source": [
    "#the top 10 poverty states are selected for by the specific column\n",
    "compare_pov = poverty_data.sort_values(by=\"Total Households Below the Poverty Level\", ascending=False).head(10)\n",
    "num_state_summer['Covid Deaths'] = state_num_increase\n",
    "compare_deaths = num_state_summer.sort_values(by=\"Covid Deaths\", ascending=False).head(10).reset_index()\n",
    "#if the high poverty state is also a state found in the top 10 states with highest covid deaths, then the result is True\n",
    "compare_pov['State'].isin(compare_deaths['Province_State']).value_counts()\n",
    "\n"
   ]
  },
  {
   "cell_type": "markdown",
   "id": "d3c14347",
   "metadata": {},
   "source": [
    "\"True\" means the state with high poverty is also a state with high covid related deaths. "
   ]
  },
  {
   "cell_type": "markdown",
   "id": "9be0fdd9",
   "metadata": {},
   "source": [
    "Graph depicting the top 10 states with the greatest number of houses below the poverty line. States in red are also in the top 10 states who had the greatest number of covid related deaths. "
   ]
  },
  {
   "cell_type": "code",
   "execution_count": 408,
   "id": "842005a9",
   "metadata": {},
   "outputs": [
    {
     "data": {
      "text/plain": [
       "<AxesSubplot:title={'center':'States with Greatest Number of Houses Below the Poverty Line'}, ylabel='State'>"
      ]
     },
     "execution_count": 408,
     "metadata": {},
     "output_type": "execute_result"
    },
    {
     "data": {
      "image/png": "[encoded data removed]",
      "text/plain": [
       "<Figure size 432x288 with 1 Axes>"
      ]
     },
     "metadata": {
      "needs_background": "light"
     },
     "output_type": "display_data"
    }
   ],
   "source": [
    "poverty_households.plot.barh(xlabel=\"State\", title= \"States with Greatest Number of Houses Below the Poverty Line\", color = ['indianred', 'indianred', 'indianred', 'indianred', 'indianred', 'indianred', 'indianred', 'lightseagreen','indianred','lightseagreen'])\n"
   ]
  },
  {
   "cell_type": "markdown",
   "id": "ea71d261",
   "metadata": {},
   "source": [
    "Since the majority of states who have high poverty are also states with high covid death rates, there is evidence to suggest high poverty rates could be an aiding factor in higher covid death rates."
   ]
  },
  {
   "cell_type": "markdown",
   "id": "a71b21b1",
   "metadata": {},
   "source": [
    "# LIMITED EDUCATION"
   ]
  },
  {
   "cell_type": "code",
   "execution_count": 409,
   "id": "7dd336ba",
   "metadata": {},
   "outputs": [
    {
     "data": {
      "text/plain": [
       "State\n",
       "California        2432994\n",
       "Texas             1482952\n",
       "New York           838231\n",
       "Florida            718909\n",
       "Illinois           419259\n",
       "Puerto Rico        358915\n",
       "Georgia            318461\n",
       "North Carolina     314545\n",
       "New Jersey         298624\n",
       "Pennsylvania       284062\n",
       "Name: Population 25 years and over - Less than 9th grade, dtype: int64"
      ]
     },
     "execution_count": 409,
     "metadata": {},
     "output_type": "execute_result"
    }
   ],
   "source": [
    "education  = pd.read_csv(\"/Users/morganchunn/Desktop/Educational_Attainment (states).csv\")\n",
    "#index is set and the data is sorted by the specific column\n",
    "state_ed= education.set_index(\"State\").sort_values(by=\"Population 25 years and over - Less than 9th grade\", ascending=False)\n",
    "state_ed_less_9= state_ed.loc[:,\"Population 25 years and over - Less than 9th grade\"]\n",
    "#top 10 values from the specific column \n",
    "ed = state_ed_less_9.head(10)\n",
    "ed\n"
   ]
  },
  {
   "cell_type": "markdown",
   "id": "f2abd04a",
   "metadata": {},
   "source": [
    "Graph depicting the top 10 states with limited education. "
   ]
  },
  {
   "cell_type": "code",
   "execution_count": 410,
   "id": "4c41e1a0",
   "metadata": {},
   "outputs": [
    {
     "data": {
      "text/plain": [
       "<AxesSubplot:title={'center':'Top States with Limited Education'}, ylabel='State'>"
      ]
     },
     "execution_count": 410,
     "metadata": {},
     "output_type": "execute_result"
    },
    {
     "data": {
      "image/png": "[encoded data removed]",
      "text/plain": [
       "<Figure size 432x288 with 1 Axes>"
      ]
     },
     "metadata": {
      "needs_background": "light"
     },
     "output_type": "display_data"
    }
   ],
   "source": [
    "ed.plot.barh(xlabel=\"State\", title= \"Top States with Limited Education\", color = \"orange\")\n"
   ]
  },
  {
   "cell_type": "markdown",
   "id": "12408ed3",
   "metadata": {},
   "source": [
    "Normilizing Data to use for comparison"
   ]
  },
  {
   "cell_type": "code",
   "execution_count": 411,
   "id": "e9bcc589",
   "metadata": {},
   "outputs": [
    {
     "data": {
      "text/plain": [
       "State\n",
       "California        1.000000\n",
       "Texas             0.557900\n",
       "New York          0.257881\n",
       "Florida           0.202355\n",
       "Illinois          0.062914\n",
       "Puerto Rico       0.034833\n",
       "Georgia           0.016007\n",
       "North Carolina    0.014185\n",
       "New Jersey        0.006776\n",
       "Pennsylvania      0.000000\n",
       "Name: Population 25 years and over - Less than 9th grade, dtype: float64"
      ]
     },
     "execution_count": 411,
     "metadata": {},
     "output_type": "execute_result"
    }
   ],
   "source": [
    "#formula for normalization\n",
    "norm_ed_data = (ed-ed.min())/(ed.max()-ed.min())\n",
    "norm_ed_data\n"
   ]
  },
  {
   "cell_type": "markdown",
   "id": "80735930",
   "metadata": {},
   "source": [
    "# Comparing States with High Related Covid Deaths to States with Limited Education:\n",
    "This depicts how many of the top 10 states with limited education amoungst the population are in the top 10 states with the most covid deaths."
   ]
  },
  {
   "cell_type": "code",
   "execution_count": 412,
   "id": "0ce42106",
   "metadata": {},
   "outputs": [
    {
     "data": {
      "text/plain": [
       "True     7\n",
       "False    3\n",
       "Name: State, dtype: int64"
      ]
     },
     "execution_count": 412,
     "metadata": {},
     "output_type": "execute_result"
    }
   ],
   "source": [
    "compare_edu = education.sort_values(by=\"Population 25 years and over - Less than 9th grade\", ascending=False).head(10)\n",
    "#if the state with limited education is in the states with high covid deaths, true is the result.. otherwise false is given\n",
    "compare_edu['State'].isin(compare_deaths['Province_State']).value_counts()\n"
   ]
  },
  {
   "cell_type": "markdown",
   "id": "a31ffbc6",
   "metadata": {},
   "source": [
    "\"True\" means the state with limited education is also a state with high covid related deaths. "
   ]
  },
  {
   "cell_type": "markdown",
   "id": "f95883fc",
   "metadata": {},
   "source": [
    "Graph depicting the top 10 states with limited education. States in red are also in the top 10 states who had the greatest number of covid related deaths. "
   ]
  },
  {
   "cell_type": "code",
   "execution_count": 413,
   "id": "e8fca1ad",
   "metadata": {},
   "outputs": [
    {
     "data": {
      "text/plain": [
       "<AxesSubplot:title={'center':'Top States with Limited Education'}, ylabel='State'>"
      ]
     },
     "execution_count": 413,
     "metadata": {},
     "output_type": "execute_result"
    },
    {
     "data": {
      "image/png": "[encoded data removed]",
      "text/plain": [
       "<Figure size 432x288 with 1 Axes>"
      ]
     },
     "metadata": {
      "needs_background": "light"
     },
     "output_type": "display_data"
    }
   ],
   "source": [
    "ed.plot.barh(xlabel=\"State\", title= \"Top States with Limited Education\", color = ['indianred', 'indianred', 'indianred', 'indianred', 'indianred', 'orange', 'indianred', 'orange','orange','indianred'])\n"
   ]
  },
  {
   "cell_type": "markdown",
   "id": "848607db",
   "metadata": {},
   "source": [
    "Since the majority of states who have limited education amongst the population are also states with high covid death rates, there is evidence to suggest that lack of education could be an aiding factor in higher covid death rates."
   ]
  },
  {
   "cell_type": "markdown",
   "id": "97a468f6",
   "metadata": {},
   "source": [
    "# POPULATION WITHOUT HEALTH INSURANCE COVERAGE"
   ]
  },
  {
   "cell_type": "code",
   "execution_count": 414,
   "id": "22c523b8",
   "metadata": {},
   "outputs": [],
   "source": [
    "insurance  = pd.read_csv(\"/Users/morganchunn/Desktop/Health_Insurance (States).csv\").set_index(\"State\")\n",
    "#values are sorted descendingly by the specific column name \n",
    "insurance.sort_values(by=\"Total Civilian Noninstitutionalized Population - No health insurance coverage\", ascending=False)\n",
    "without_in= insurance.loc[:,\"Total Civilian Noninstitutionalized Population - No health insurance coverage\"]\n",
    "ins = without_in.sort_values(ascending=False).head(10)\n"
   ]
  },
  {
   "cell_type": "markdown",
   "id": "62271ad6",
   "metadata": {},
   "source": [
    "Graph depicting the top 10 states with the greatest number of uninsured individuals. "
   ]
  },
  {
   "cell_type": "code",
   "execution_count": 415,
   "id": "bc9d53cb",
   "metadata": {},
   "outputs": [
    {
     "data": {
      "text/plain": [
       "<AxesSubplot:title={'center':'Top States with Limited Insurance Coverage Amongst the Population'}, ylabel='State'>"
      ]
     },
     "execution_count": 415,
     "metadata": {},
     "output_type": "execute_result"
    },
    {
     "data": {
      "image/png": "[encoded data removed]",
      "text/plain": [
       "<Figure size 432x288 with 1 Axes>"
      ]
     },
     "metadata": {
      "needs_background": "light"
     },
     "output_type": "display_data"
    }
   ],
   "source": [
    "ins.plot.barh(xlabel=\"State\", title= \"Top States with Limited Insurance Coverage Amongst the Population\", color = \"plum\")\n"
   ]
  },
  {
   "cell_type": "markdown",
   "id": "ab8fbd00",
   "metadata": {},
   "source": [
    "Normilizing Data to use for Comparison "
   ]
  },
  {
   "cell_type": "code",
   "execution_count": 416,
   "id": "c789f9f9",
   "metadata": {},
   "outputs": [
    {
     "data": {
      "text/plain": [
       "State\n",
       "Texas             1.000000\n",
       "California        0.540534\n",
       "Florida           0.472499\n",
       "Georgia           0.157508\n",
       "New York          0.100215\n",
       "North Carolina    0.090379\n",
       "Illinois          0.037140\n",
       "Arizona           0.003817\n",
       "Pennsylvania      0.001794\n",
       "Virginia          0.000000\n",
       "Name: Total Civilian Noninstitutionalized Population - No health insurance coverage, dtype: float64"
      ]
     },
     "execution_count": 416,
     "metadata": {},
     "output_type": "execute_result"
    }
   ],
   "source": [
    "norm_in_data = (ins-ins.min())/(ins.max()-ins.min())\n",
    "norm_in_data\n"
   ]
  },
  {
   "cell_type": "markdown",
   "id": "3bfc419a",
   "metadata": {},
   "source": [
    "# Comparing States with High Covid Related Deaths to States without Health Insurance:\n",
    "This depicts how many of the top 10 states without health insurance are in the top 10 states with the most covid deaths.\n"
   ]
  },
  {
   "cell_type": "code",
   "execution_count": 417,
   "id": "8160a748",
   "metadata": {},
   "outputs": [
    {
     "data": {
      "text/plain": [
       "True     8\n",
       "False    2\n",
       "Name: State, dtype: int64"
      ]
     },
     "execution_count": 417,
     "metadata": {},
     "output_type": "execute_result"
    }
   ],
   "source": [
    "com_ins = insurance.sort_values(by=\"Total Civilian Noninstitutionalized Population - No health insurance coverage\", ascending=False).head(10)\n",
    "compare_ins = com_ins.reset_index()\n",
    "#if the low insurance coverage state is also a state with high covid deaths, true is returned \n",
    "compare_ins['State'].isin(compare_deaths['Province_State']).value_counts()\n"
   ]
  },
  {
   "cell_type": "markdown",
   "id": "b6fba432",
   "metadata": {},
   "source": [
    "\"True\" means the state with limited insurance coverage is also a state with high covid related deaths. "
   ]
  },
  {
   "cell_type": "markdown",
   "id": "6904149f",
   "metadata": {},
   "source": [
    "Graph depicting the top 10 states with the greatest number of uninsured individuals. States in red are also in the top 10 states who had the greatest number of covid related deaths."
   ]
  },
  {
   "cell_type": "code",
   "execution_count": 418,
   "id": "e7ab505d",
   "metadata": {},
   "outputs": [
    {
     "data": {
      "text/plain": [
       "<AxesSubplot:title={'center':'Top States with Limited Insurance Coverage Amongst the Population'}, ylabel='State'>"
      ]
     },
     "execution_count": 418,
     "metadata": {},
     "output_type": "execute_result"
    },
    {
     "data": {
      "image/png": "[encoded data removed]",
      "text/plain": [
       "<Figure size 432x288 with 1 Axes>"
      ]
     },
     "metadata": {
      "needs_background": "light"
     },
     "output_type": "display_data"
    }
   ],
   "source": [
    "ins.plot.barh(xlabel=\"State\", title= \"Top States with Limited Insurance Coverage Amongst the Population\", color = ['indianred', 'indianred', 'indianred', 'indianred', 'indianred', 'plum', 'indianred', 'indianred','indianred','plum'])\n"
   ]
  },
  {
   "cell_type": "markdown",
   "id": "df5313b6",
   "metadata": {},
   "source": [
    "Since the majority of states who have limited health insurance amongst the population are also states with high covid death rates, there is evidence to suggest like lack of health insurance could be an aiding factor in higher covid death rates."
   ]
  },
  {
   "cell_type": "markdown",
   "id": "b7a3458d",
   "metadata": {},
   "source": [
    "# Viewing the data in tabulated form:\n"
   ]
  },
  {
   "cell_type": "markdown",
   "id": "c0cc8434",
   "metadata": {},
   "source": [
    "# How the top 10 States in Covid Deaths compare to top 10 States Below Poverty line "
   ]
  },
  {
   "cell_type": "code",
   "execution_count": 419,
   "id": "7e55c037",
   "metadata": {},
   "outputs": [
    {
     "data": {
      "text/html": [
       "<div>\n",
       "<style scoped>\n",
       "    .dataframe tbody tr th:only-of-type {\n",
       "        vertical-align: middle;\n",
       "    }\n",
       "\n",
       "    .dataframe tbody tr th {\n",
       "        vertical-align: top;\n",
       "    }\n",
       "\n",
       "    .dataframe thead th {\n",
       "        text-align: right;\n",
       "    }\n",
       "</style>\n",
       "<table border=\"1\" class=\"dataframe\">\n",
       "  <thead>\n",
       "    <tr style=\"text-align: right;\">\n",
       "      <th></th>\n",
       "      <th>Total Covid deaths over 1 Year</th>\n",
       "      <th>Houses Below Poverty Line</th>\n",
       "    </tr>\n",
       "    <tr>\n",
       "      <th>State</th>\n",
       "      <th></th>\n",
       "      <th></th>\n",
       "    </tr>\n",
       "  </thead>\n",
       "  <tbody>\n",
       "    <tr>\n",
       "      <th>California</th>\n",
       "      <td>57981.0</td>\n",
       "      <td>1632747.0</td>\n",
       "    </tr>\n",
       "    <tr>\n",
       "      <th>Texas</th>\n",
       "      <td>49646.0</td>\n",
       "      <td>1331757.0</td>\n",
       "    </tr>\n",
       "    <tr>\n",
       "      <th>Florida</th>\n",
       "      <td>34409.0</td>\n",
       "      <td>1029407.0</td>\n",
       "    </tr>\n",
       "    <tr>\n",
       "      <th>New York</th>\n",
       "      <td>22437.0</td>\n",
       "      <td>1019879.0</td>\n",
       "    </tr>\n",
       "    <tr>\n",
       "      <th>Pennsylvania</th>\n",
       "      <td>21627.0</td>\n",
       "      <td>612247.0</td>\n",
       "    </tr>\n",
       "    <tr>\n",
       "      <th>Illinois</th>\n",
       "      <td>19821.0</td>\n",
       "      <td>596654.0</td>\n",
       "    </tr>\n",
       "    <tr>\n",
       "      <th>Georgia</th>\n",
       "      <td>18744.0</td>\n",
       "      <td>535264.0</td>\n",
       "    </tr>\n",
       "    <tr>\n",
       "      <th>Ohio</th>\n",
       "      <td>18158.0</td>\n",
       "      <td>639599.0</td>\n",
       "    </tr>\n",
       "    <tr>\n",
       "      <th>Arizona</th>\n",
       "      <td>16710.0</td>\n",
       "      <td>NaN</td>\n",
       "    </tr>\n",
       "    <tr>\n",
       "      <th>Michigan</th>\n",
       "      <td>14631.0</td>\n",
       "      <td>NaN</td>\n",
       "    </tr>\n",
       "    <tr>\n",
       "      <th>North Carolina</th>\n",
       "      <td>NaN</td>\n",
       "      <td>551013.0</td>\n",
       "    </tr>\n",
       "    <tr>\n",
       "      <th>Puerto Rico</th>\n",
       "      <td>NaN</td>\n",
       "      <td>535202.0</td>\n",
       "    </tr>\n",
       "    <tr>\n",
       "      <th>New Jersey</th>\n",
       "      <td>NaN</td>\n",
       "      <td>NaN</td>\n",
       "    </tr>\n",
       "    <tr>\n",
       "      <th>Virginia</th>\n",
       "      <td>NaN</td>\n",
       "      <td>NaN</td>\n",
       "    </tr>\n",
       "  </tbody>\n",
       "</table>\n",
       "</div>"
      ],
      "text/plain": [
       "                 Total Covid deaths over 1 Year  Houses Below Poverty Line \n",
       "State                                                                      \n",
       "California                              57981.0                   1632747.0\n",
       "Texas                                   49646.0                   1331757.0\n",
       "Florida                                 34409.0                   1029407.0\n",
       "New York                                22437.0                   1019879.0\n",
       "Pennsylvania                            21627.0                    612247.0\n",
       "Illinois                                19821.0                    596654.0\n",
       "Georgia                                 18744.0                    535264.0\n",
       "Ohio                                    18158.0                    639599.0\n",
       "Arizona                                 16710.0                         NaN\n",
       "Michigan                                14631.0                         NaN\n",
       "North Carolina                              NaN                    551013.0\n",
       "Puerto Rico                                 NaN                    535202.0\n",
       "New Jersey                                  NaN                         NaN\n",
       "Virginia                                    NaN                         NaN"
      ]
     },
     "execution_count": 419,
     "metadata": {},
     "output_type": "execute_result"
    }
   ],
   "source": [
    "combined  = pd.read_csv(\"/Users/morganchunn/Desktop/combined_data.csv\")\n",
    "#multiple columns are selected for and sorted by one specific column\n",
    "pov_deaths = combined.iloc[:,[0,1,2]].sort_values(by=\"Total Covid deaths over 1 Year\", ascending = False).set_index('State')\n",
    "pov_deaths\n",
    "\n"
   ]
  },
  {
   "cell_type": "markdown",
   "id": "ce6db7bb",
   "metadata": {},
   "source": [
    "Plot showing normalization of the above data. "
   ]
  },
  {
   "cell_type": "code",
   "execution_count": 420,
   "id": "008c97c6",
   "metadata": {},
   "outputs": [
    {
     "data": {
      "text/plain": [
       "<AxesSubplot:xlabel='State'>"
      ]
     },
     "execution_count": 420,
     "metadata": {},
     "output_type": "execute_result"
    },
    {
     "data": {
      "image/png": "[encoded data removed]",
      "text/plain": [
       "<Figure size 432x288 with 1 Axes>"
      ]
     },
     "metadata": {
      "needs_background": "light"
     },
     "output_type": "display_data"
    }
   ],
   "source": [
    "normilized_pov = normilized_com_all.iloc[:,[0,2]]\n",
    "#bar plot of the normalized data\n",
    "normilized_pov.plot.bar()"
   ]
  },
  {
   "cell_type": "markdown",
   "id": "ea5bfa45",
   "metadata": {},
   "source": [
    "# How the top 10 States in Covid Deaths compare to top 10 States with limited Education  \n"
   ]
  },
  {
   "cell_type": "code",
   "execution_count": 421,
   "id": "d3f1aaf3",
   "metadata": {},
   "outputs": [
    {
     "data": {
      "text/html": [
       "<div>\n",
       "<style scoped>\n",
       "    .dataframe tbody tr th:only-of-type {\n",
       "        vertical-align: middle;\n",
       "    }\n",
       "\n",
       "    .dataframe tbody tr th {\n",
       "        vertical-align: top;\n",
       "    }\n",
       "\n",
       "    .dataframe thead th {\n",
       "        text-align: right;\n",
       "    }\n",
       "</style>\n",
       "<table border=\"1\" class=\"dataframe\">\n",
       "  <thead>\n",
       "    <tr style=\"text-align: right;\">\n",
       "      <th></th>\n",
       "      <th>State</th>\n",
       "      <th>Total Covid deaths over 1 Year</th>\n",
       "      <th>Population 25 years and over - Less than 9th Grad Education</th>\n",
       "    </tr>\n",
       "  </thead>\n",
       "  <tbody>\n",
       "    <tr>\n",
       "      <th>0</th>\n",
       "      <td>California</td>\n",
       "      <td>57981.0</td>\n",
       "      <td>2432994.0</td>\n",
       "    </tr>\n",
       "    <tr>\n",
       "      <th>1</th>\n",
       "      <td>Texas</td>\n",
       "      <td>49646.0</td>\n",
       "      <td>1482952.0</td>\n",
       "    </tr>\n",
       "    <tr>\n",
       "      <th>2</th>\n",
       "      <td>Florida</td>\n",
       "      <td>34409.0</td>\n",
       "      <td>718909.0</td>\n",
       "    </tr>\n",
       "    <tr>\n",
       "      <th>3</th>\n",
       "      <td>New York</td>\n",
       "      <td>22437.0</td>\n",
       "      <td>838231.0</td>\n",
       "    </tr>\n",
       "    <tr>\n",
       "      <th>4</th>\n",
       "      <td>Pennsylvania</td>\n",
       "      <td>21627.0</td>\n",
       "      <td>284062.0</td>\n",
       "    </tr>\n",
       "    <tr>\n",
       "      <th>5</th>\n",
       "      <td>Illinois</td>\n",
       "      <td>19821.0</td>\n",
       "      <td>419259.0</td>\n",
       "    </tr>\n",
       "    <tr>\n",
       "      <th>6</th>\n",
       "      <td>Georgia</td>\n",
       "      <td>18744.0</td>\n",
       "      <td>318461.0</td>\n",
       "    </tr>\n",
       "    <tr>\n",
       "      <th>7</th>\n",
       "      <td>Ohio</td>\n",
       "      <td>18158.0</td>\n",
       "      <td>NaN</td>\n",
       "    </tr>\n",
       "    <tr>\n",
       "      <th>8</th>\n",
       "      <td>Arizona</td>\n",
       "      <td>16710.0</td>\n",
       "      <td>NaN</td>\n",
       "    </tr>\n",
       "    <tr>\n",
       "      <th>9</th>\n",
       "      <td>Michigan</td>\n",
       "      <td>14631.0</td>\n",
       "      <td>NaN</td>\n",
       "    </tr>\n",
       "    <tr>\n",
       "      <th>10</th>\n",
       "      <td>North Carolina</td>\n",
       "      <td>NaN</td>\n",
       "      <td>314545.0</td>\n",
       "    </tr>\n",
       "    <tr>\n",
       "      <th>11</th>\n",
       "      <td>Puerto Rico</td>\n",
       "      <td>NaN</td>\n",
       "      <td>358915.0</td>\n",
       "    </tr>\n",
       "    <tr>\n",
       "      <th>12</th>\n",
       "      <td>New Jersey</td>\n",
       "      <td>NaN</td>\n",
       "      <td>298624.0</td>\n",
       "    </tr>\n",
       "    <tr>\n",
       "      <th>13</th>\n",
       "      <td>Virginia</td>\n",
       "      <td>NaN</td>\n",
       "      <td>NaN</td>\n",
       "    </tr>\n",
       "  </tbody>\n",
       "</table>\n",
       "</div>"
      ],
      "text/plain": [
       "              State  Total Covid deaths over 1 Year  \\\n",
       "0        California                         57981.0   \n",
       "1             Texas                         49646.0   \n",
       "2           Florida                         34409.0   \n",
       "3          New York                         22437.0   \n",
       "4     Pennsylvania                          21627.0   \n",
       "5          Illinois                         19821.0   \n",
       "6           Georgia                         18744.0   \n",
       "7              Ohio                         18158.0   \n",
       "8          Arizona                          16710.0   \n",
       "9         Michigan                          14631.0   \n",
       "10  North Carolina                              NaN   \n",
       "11      Puerto Rico                             NaN   \n",
       "12       New Jersey                             NaN   \n",
       "13         Virginia                             NaN   \n",
       "\n",
       "    Population 25 years and over - Less than 9th Grad Education   \n",
       "0                                           2432994.0             \n",
       "1                                           1482952.0             \n",
       "2                                            718909.0             \n",
       "3                                            838231.0             \n",
       "4                                            284062.0             \n",
       "5                                            419259.0             \n",
       "6                                            318461.0             \n",
       "7                                                 NaN             \n",
       "8                                                 NaN             \n",
       "9                                                 NaN             \n",
       "10                                           314545.0             \n",
       "11                                           358915.0             \n",
       "12                                           298624.0             \n",
       "13                                                NaN             "
      ]
     },
     "execution_count": 421,
     "metadata": {},
     "output_type": "execute_result"
    }
   ],
   "source": [
    "#multiple columns are selected for by their position\n",
    "edu_deaths=combined.iloc[:,[0,1,3]] \n",
    "edu_deaths"
   ]
  },
  {
   "cell_type": "markdown",
   "id": "d3ec82a8",
   "metadata": {},
   "source": [
    "Plot showing normalization of the above data. "
   ]
  },
  {
   "cell_type": "code",
   "execution_count": 422,
   "id": "ae42ae42",
   "metadata": {},
   "outputs": [
    {
     "data": {
      "text/plain": [
       "<AxesSubplot:xlabel='State'>"
      ]
     },
     "execution_count": 422,
     "metadata": {},
     "output_type": "execute_result"
    },
    {
     "data": {
      "image/png": "[encoded data removed]",
      "text/plain": [
       "<Figure size 432x288 with 1 Axes>"
      ]
     },
     "metadata": {
      "needs_background": "light"
     },
     "output_type": "display_data"
    }
   ],
   "source": [
    "normilized_edu = normilized_com_all.iloc[:,[0,3]]\n",
    "normilized_edu.plot.bar()"
   ]
  },
  {
   "cell_type": "markdown",
   "id": "ff87abe3",
   "metadata": {},
   "source": [
    "# How the top 10 States in Covid Deaths over a year compare to the top 10 States lacking in Heath Insurance  "
   ]
  },
  {
   "cell_type": "code",
   "execution_count": 423,
   "id": "e5d2a986",
   "metadata": {},
   "outputs": [
    {
     "data": {
      "text/html": [
       "<div>\n",
       "<style scoped>\n",
       "    .dataframe tbody tr th:only-of-type {\n",
       "        vertical-align: middle;\n",
       "    }\n",
       "\n",
       "    .dataframe tbody tr th {\n",
       "        vertical-align: top;\n",
       "    }\n",
       "\n",
       "    .dataframe thead th {\n",
       "        text-align: right;\n",
       "    }\n",
       "</style>\n",
       "<table border=\"1\" class=\"dataframe\">\n",
       "  <thead>\n",
       "    <tr style=\"text-align: right;\">\n",
       "      <th></th>\n",
       "      <th>State</th>\n",
       "      <th>Total Covid deaths over 1 Year</th>\n",
       "      <th>Population without Health Insurance</th>\n",
       "    </tr>\n",
       "  </thead>\n",
       "  <tbody>\n",
       "    <tr>\n",
       "      <th>0</th>\n",
       "      <td>California</td>\n",
       "      <td>57981.0</td>\n",
       "      <td>2915070.0</td>\n",
       "    </tr>\n",
       "    <tr>\n",
       "      <th>1</th>\n",
       "      <td>Texas</td>\n",
       "      <td>49646.0</td>\n",
       "      <td>4791164.0</td>\n",
       "    </tr>\n",
       "    <tr>\n",
       "      <th>2</th>\n",
       "      <td>Florida</td>\n",
       "      <td>34409.0</td>\n",
       "      <td>2637268.0</td>\n",
       "    </tr>\n",
       "    <tr>\n",
       "      <th>3</th>\n",
       "      <td>New York</td>\n",
       "      <td>22437.0</td>\n",
       "      <td>1117159.0</td>\n",
       "    </tr>\n",
       "    <tr>\n",
       "      <th>4</th>\n",
       "      <td>Pennsylvania</td>\n",
       "      <td>21627.0</td>\n",
       "      <td>715285.0</td>\n",
       "    </tr>\n",
       "    <tr>\n",
       "      <th>5</th>\n",
       "      <td>Illinois</td>\n",
       "      <td>19821.0</td>\n",
       "      <td>859612.0</td>\n",
       "    </tr>\n",
       "    <tr>\n",
       "      <th>6</th>\n",
       "      <td>Georgia</td>\n",
       "      <td>18744.0</td>\n",
       "      <td>1351097.0</td>\n",
       "    </tr>\n",
       "    <tr>\n",
       "      <th>7</th>\n",
       "      <td>Ohio</td>\n",
       "      <td>18158.0</td>\n",
       "      <td>NaN</td>\n",
       "    </tr>\n",
       "    <tr>\n",
       "      <th>8</th>\n",
       "      <td>Arizona</td>\n",
       "      <td>16710.0</td>\n",
       "      <td>723547.0</td>\n",
       "    </tr>\n",
       "    <tr>\n",
       "      <th>9</th>\n",
       "      <td>Michigan</td>\n",
       "      <td>14631.0</td>\n",
       "      <td>NaN</td>\n",
       "    </tr>\n",
       "    <tr>\n",
       "      <th>10</th>\n",
       "      <td>North Carolina</td>\n",
       "      <td>NaN</td>\n",
       "      <td>1076994.0</td>\n",
       "    </tr>\n",
       "    <tr>\n",
       "      <th>11</th>\n",
       "      <td>Puerto Rico</td>\n",
       "      <td>NaN</td>\n",
       "      <td>NaN</td>\n",
       "    </tr>\n",
       "    <tr>\n",
       "      <th>12</th>\n",
       "      <td>New Jersey</td>\n",
       "      <td>NaN</td>\n",
       "      <td>NaN</td>\n",
       "    </tr>\n",
       "    <tr>\n",
       "      <th>13</th>\n",
       "      <td>Virginia</td>\n",
       "      <td>NaN</td>\n",
       "      <td>707960.0</td>\n",
       "    </tr>\n",
       "  </tbody>\n",
       "</table>\n",
       "</div>"
      ],
      "text/plain": [
       "              State  Total Covid deaths over 1 Year  \\\n",
       "0        California                         57981.0   \n",
       "1             Texas                         49646.0   \n",
       "2           Florida                         34409.0   \n",
       "3          New York                         22437.0   \n",
       "4     Pennsylvania                          21627.0   \n",
       "5          Illinois                         19821.0   \n",
       "6           Georgia                         18744.0   \n",
       "7              Ohio                         18158.0   \n",
       "8          Arizona                          16710.0   \n",
       "9         Michigan                          14631.0   \n",
       "10  North Carolina                              NaN   \n",
       "11      Puerto Rico                             NaN   \n",
       "12       New Jersey                             NaN   \n",
       "13         Virginia                             NaN   \n",
       "\n",
       "    Population without Health Insurance    \n",
       "0                               2915070.0  \n",
       "1                               4791164.0  \n",
       "2                               2637268.0  \n",
       "3                               1117159.0  \n",
       "4                                715285.0  \n",
       "5                                859612.0  \n",
       "6                               1351097.0  \n",
       "7                                     NaN  \n",
       "8                                723547.0  \n",
       "9                                     NaN  \n",
       "10                              1076994.0  \n",
       "11                                    NaN  \n",
       "12                                    NaN  \n",
       "13                               707960.0  "
      ]
     },
     "execution_count": 423,
     "metadata": {},
     "output_type": "execute_result"
    }
   ],
   "source": [
    "ins_deaths = combined.iloc[:,[0,1,4]]\n",
    "ins_deaths\n"
   ]
  },
  {
   "cell_type": "markdown",
   "id": "8e80c8bb",
   "metadata": {},
   "source": [
    "Plot showing normalization of the above data. "
   ]
  },
  {
   "cell_type": "code",
   "execution_count": 424,
   "id": "a04d4832",
   "metadata": {},
   "outputs": [
    {
     "data": {
      "text/plain": [
       "<AxesSubplot:xlabel='State'>"
      ]
     },
     "execution_count": 424,
     "metadata": {},
     "output_type": "execute_result"
    },
    {
     "data": {
      "image/png": "[encoded data removed]",
      "text/plain": [
       "<Figure size 432x288 with 1 Axes>"
      ]
     },
     "metadata": {
      "needs_background": "light"
     },
     "output_type": "display_data"
    }
   ],
   "source": [
    "normilized_ins = normilized_com_all.iloc[:,[0,3]]\n",
    "normilized_ins.plot.bar()"
   ]
  },
  {
   "cell_type": "markdown",
   "id": "7c52b909",
   "metadata": {},
   "source": [
    "# Combined Data\n",
    "Top 10 States from each category "
   ]
  },
  {
   "cell_type": "code",
   "execution_count": 425,
   "id": "56bbbaeb",
   "metadata": {},
   "outputs": [
    {
     "data": {
      "text/html": [
       "<div>\n",
       "<style scoped>\n",
       "    .dataframe tbody tr th:only-of-type {\n",
       "        vertical-align: middle;\n",
       "    }\n",
       "\n",
       "    .dataframe tbody tr th {\n",
       "        vertical-align: top;\n",
       "    }\n",
       "\n",
       "    .dataframe thead th {\n",
       "        text-align: right;\n",
       "    }\n",
       "</style>\n",
       "<table border=\"1\" class=\"dataframe\">\n",
       "  <thead>\n",
       "    <tr style=\"text-align: right;\">\n",
       "      <th></th>\n",
       "      <th>Total Covid deaths over 1 Year</th>\n",
       "      <th>Houses Below Poverty Line</th>\n",
       "      <th>Population 25 years and over - Less than 9th Grad Education</th>\n",
       "      <th>Population without Health Insurance</th>\n",
       "    </tr>\n",
       "    <tr>\n",
       "      <th>State</th>\n",
       "      <th></th>\n",
       "      <th></th>\n",
       "      <th></th>\n",
       "      <th></th>\n",
       "    </tr>\n",
       "  </thead>\n",
       "  <tbody>\n",
       "    <tr>\n",
       "      <th>California</th>\n",
       "      <td>57981.0</td>\n",
       "      <td>1632747.0</td>\n",
       "      <td>2432994.0</td>\n",
       "      <td>2915070.0</td>\n",
       "    </tr>\n",
       "    <tr>\n",
       "      <th>Texas</th>\n",
       "      <td>49646.0</td>\n",
       "      <td>1331757.0</td>\n",
       "      <td>1482952.0</td>\n",
       "      <td>4791164.0</td>\n",
       "    </tr>\n",
       "    <tr>\n",
       "      <th>Florida</th>\n",
       "      <td>34409.0</td>\n",
       "      <td>1029407.0</td>\n",
       "      <td>718909.0</td>\n",
       "      <td>2637268.0</td>\n",
       "    </tr>\n",
       "    <tr>\n",
       "      <th>New York</th>\n",
       "      <td>22437.0</td>\n",
       "      <td>1019879.0</td>\n",
       "      <td>838231.0</td>\n",
       "      <td>1117159.0</td>\n",
       "    </tr>\n",
       "    <tr>\n",
       "      <th>Pennsylvania</th>\n",
       "      <td>21627.0</td>\n",
       "      <td>612247.0</td>\n",
       "      <td>284062.0</td>\n",
       "      <td>715285.0</td>\n",
       "    </tr>\n",
       "    <tr>\n",
       "      <th>Illinois</th>\n",
       "      <td>19821.0</td>\n",
       "      <td>596654.0</td>\n",
       "      <td>419259.0</td>\n",
       "      <td>859612.0</td>\n",
       "    </tr>\n",
       "    <tr>\n",
       "      <th>Georgia</th>\n",
       "      <td>18744.0</td>\n",
       "      <td>535264.0</td>\n",
       "      <td>318461.0</td>\n",
       "      <td>1351097.0</td>\n",
       "    </tr>\n",
       "    <tr>\n",
       "      <th>Ohio</th>\n",
       "      <td>18158.0</td>\n",
       "      <td>639599.0</td>\n",
       "      <td>NaN</td>\n",
       "      <td>NaN</td>\n",
       "    </tr>\n",
       "    <tr>\n",
       "      <th>Arizona</th>\n",
       "      <td>16710.0</td>\n",
       "      <td>NaN</td>\n",
       "      <td>NaN</td>\n",
       "      <td>723547.0</td>\n",
       "    </tr>\n",
       "    <tr>\n",
       "      <th>Michigan</th>\n",
       "      <td>14631.0</td>\n",
       "      <td>NaN</td>\n",
       "      <td>NaN</td>\n",
       "      <td>NaN</td>\n",
       "    </tr>\n",
       "    <tr>\n",
       "      <th>North Carolina</th>\n",
       "      <td>NaN</td>\n",
       "      <td>551013.0</td>\n",
       "      <td>314545.0</td>\n",
       "      <td>1076994.0</td>\n",
       "    </tr>\n",
       "    <tr>\n",
       "      <th>Puerto Rico</th>\n",
       "      <td>NaN</td>\n",
       "      <td>535202.0</td>\n",
       "      <td>358915.0</td>\n",
       "      <td>NaN</td>\n",
       "    </tr>\n",
       "    <tr>\n",
       "      <th>New Jersey</th>\n",
       "      <td>NaN</td>\n",
       "      <td>NaN</td>\n",
       "      <td>298624.0</td>\n",
       "      <td>NaN</td>\n",
       "    </tr>\n",
       "    <tr>\n",
       "      <th>Virginia</th>\n",
       "      <td>NaN</td>\n",
       "      <td>NaN</td>\n",
       "      <td>NaN</td>\n",
       "      <td>707960.0</td>\n",
       "    </tr>\n",
       "  </tbody>\n",
       "</table>\n",
       "</div>"
      ],
      "text/plain": [
       "                 Total Covid deaths over 1 Year  Houses Below Poverty Line   \\\n",
       "State                                                                         \n",
       "California                              57981.0                   1632747.0   \n",
       "Texas                                   49646.0                   1331757.0   \n",
       "Florida                                 34409.0                   1029407.0   \n",
       "New York                                22437.0                   1019879.0   \n",
       "Pennsylvania                            21627.0                    612247.0   \n",
       "Illinois                                19821.0                    596654.0   \n",
       "Georgia                                 18744.0                    535264.0   \n",
       "Ohio                                    18158.0                    639599.0   \n",
       "Arizona                                 16710.0                         NaN   \n",
       "Michigan                                14631.0                         NaN   \n",
       "North Carolina                              NaN                    551013.0   \n",
       "Puerto Rico                                 NaN                    535202.0   \n",
       "New Jersey                                  NaN                         NaN   \n",
       "Virginia                                    NaN                         NaN   \n",
       "\n",
       "                 Population 25 years and over - Less than 9th Grad Education   \\\n",
       "State                                                                           \n",
       "California                                               2432994.0              \n",
       "Texas                                                    1482952.0              \n",
       "Florida                                                   718909.0              \n",
       "New York                                                  838231.0              \n",
       "Pennsylvania                                              284062.0              \n",
       "Illinois                                                  419259.0              \n",
       "Georgia                                                   318461.0              \n",
       "Ohio                                                           NaN              \n",
       "Arizona                                                        NaN              \n",
       "Michigan                                                       NaN              \n",
       "North Carolina                                            314545.0              \n",
       "Puerto Rico                                               358915.0              \n",
       "New Jersey                                                298624.0              \n",
       "Virginia                                                       NaN              \n",
       "\n",
       "                 Population without Health Insurance    \n",
       "State                                                   \n",
       "California                                   2915070.0  \n",
       "Texas                                        4791164.0  \n",
       "Florida                                      2637268.0  \n",
       "New York                                     1117159.0  \n",
       "Pennsylvania                                  715285.0  \n",
       "Illinois                                      859612.0  \n",
       "Georgia                                      1351097.0  \n",
       "Ohio                                               NaN  \n",
       "Arizona                                       723547.0  \n",
       "Michigan                                           NaN  \n",
       "North Carolina                               1076994.0  \n",
       "Puerto Rico                                        NaN  \n",
       "New Jersey                                         NaN  \n",
       "Virginia                                      707960.0  "
      ]
     },
     "execution_count": 425,
     "metadata": {},
     "output_type": "execute_result"
    }
   ],
   "source": [
    "com_all = pd.read_csv(\"/Users/morganchunn/Desktop/combined_data.csv\").set_index(\"State\")\n",
    "com_all"
   ]
  },
  {
   "cell_type": "markdown",
   "id": "fd228c1a",
   "metadata": {},
   "source": [
    "Below is the data normalized. The is done so all data can be observed from theh same scale. "
   ]
  },
  {
   "cell_type": "code",
   "execution_count": 426,
   "id": "aa4736a1",
   "metadata": {},
   "outputs": [
    {
     "data": {
      "text/html": [
       "<div>\n",
       "<style scoped>\n",
       "    .dataframe tbody tr th:only-of-type {\n",
       "        vertical-align: middle;\n",
       "    }\n",
       "\n",
       "    .dataframe tbody tr th {\n",
       "        vertical-align: top;\n",
       "    }\n",
       "\n",
       "    .dataframe thead th {\n",
       "        text-align: right;\n",
       "    }\n",
       "</style>\n",
       "<table border=\"1\" class=\"dataframe\">\n",
       "  <thead>\n",
       "    <tr style=\"text-align: right;\">\n",
       "      <th></th>\n",
       "      <th>Total Covid deaths over 1 Year</th>\n",
       "      <th>Houses Below Poverty Line</th>\n",
       "      <th>Population 25 years and over - Less than 9th Grad Education</th>\n",
       "      <th>Population without Health Insurance</th>\n",
       "    </tr>\n",
       "    <tr>\n",
       "      <th>State</th>\n",
       "      <th></th>\n",
       "      <th></th>\n",
       "      <th></th>\n",
       "      <th></th>\n",
       "    </tr>\n",
       "  </thead>\n",
       "  <tbody>\n",
       "    <tr>\n",
       "      <th>California</th>\n",
       "      <td>1.000000</td>\n",
       "      <td>1.000000</td>\n",
       "      <td>1.000000</td>\n",
       "      <td>0.540534</td>\n",
       "    </tr>\n",
       "    <tr>\n",
       "      <th>Texas</th>\n",
       "      <td>0.807728</td>\n",
       "      <td>0.725761</td>\n",
       "      <td>0.557900</td>\n",
       "      <td>1.000000</td>\n",
       "    </tr>\n",
       "    <tr>\n",
       "      <th>Florida</th>\n",
       "      <td>0.456240</td>\n",
       "      <td>0.450282</td>\n",
       "      <td>0.202355</td>\n",
       "      <td>0.472499</td>\n",
       "    </tr>\n",
       "    <tr>\n",
       "      <th>New York</th>\n",
       "      <td>0.180069</td>\n",
       "      <td>0.441601</td>\n",
       "      <td>0.257881</td>\n",
       "      <td>0.100215</td>\n",
       "    </tr>\n",
       "    <tr>\n",
       "      <th>Pennsylvania</th>\n",
       "      <td>0.161384</td>\n",
       "      <td>0.070198</td>\n",
       "      <td>0.000000</td>\n",
       "      <td>0.001794</td>\n",
       "    </tr>\n",
       "    <tr>\n",
       "      <th>Illinois</th>\n",
       "      <td>0.119723</td>\n",
       "      <td>0.055990</td>\n",
       "      <td>0.062914</td>\n",
       "      <td>0.037140</td>\n",
       "    </tr>\n",
       "    <tr>\n",
       "      <th>Georgia</th>\n",
       "      <td>0.094879</td>\n",
       "      <td>0.000056</td>\n",
       "      <td>0.016007</td>\n",
       "      <td>0.157508</td>\n",
       "    </tr>\n",
       "    <tr>\n",
       "      <th>Ohio</th>\n",
       "      <td>0.081361</td>\n",
       "      <td>0.095119</td>\n",
       "      <td>NaN</td>\n",
       "      <td>NaN</td>\n",
       "    </tr>\n",
       "    <tr>\n",
       "      <th>Arizona</th>\n",
       "      <td>0.047958</td>\n",
       "      <td>NaN</td>\n",
       "      <td>NaN</td>\n",
       "      <td>0.003817</td>\n",
       "    </tr>\n",
       "    <tr>\n",
       "      <th>Michigan</th>\n",
       "      <td>0.000000</td>\n",
       "      <td>NaN</td>\n",
       "      <td>NaN</td>\n",
       "      <td>NaN</td>\n",
       "    </tr>\n",
       "    <tr>\n",
       "      <th>North Carolina</th>\n",
       "      <td>NaN</td>\n",
       "      <td>0.014406</td>\n",
       "      <td>0.014185</td>\n",
       "      <td>0.090379</td>\n",
       "    </tr>\n",
       "    <tr>\n",
       "      <th>Puerto Rico</th>\n",
       "      <td>NaN</td>\n",
       "      <td>0.000000</td>\n",
       "      <td>0.034833</td>\n",
       "      <td>NaN</td>\n",
       "    </tr>\n",
       "    <tr>\n",
       "      <th>New Jersey</th>\n",
       "      <td>NaN</td>\n",
       "      <td>NaN</td>\n",
       "      <td>0.006776</td>\n",
       "      <td>NaN</td>\n",
       "    </tr>\n",
       "    <tr>\n",
       "      <th>Virginia</th>\n",
       "      <td>NaN</td>\n",
       "      <td>NaN</td>\n",
       "      <td>NaN</td>\n",
       "      <td>0.000000</td>\n",
       "    </tr>\n",
       "  </tbody>\n",
       "</table>\n",
       "</div>"
      ],
      "text/plain": [
       "                 Total Covid deaths over 1 Year  Houses Below Poverty Line   \\\n",
       "State                                                                         \n",
       "California                             1.000000                    1.000000   \n",
       "Texas                                  0.807728                    0.725761   \n",
       "Florida                                0.456240                    0.450282   \n",
       "New York                               0.180069                    0.441601   \n",
       "Pennsylvania                           0.161384                    0.070198   \n",
       "Illinois                               0.119723                    0.055990   \n",
       "Georgia                                0.094879                    0.000056   \n",
       "Ohio                                   0.081361                    0.095119   \n",
       "Arizona                                0.047958                         NaN   \n",
       "Michigan                               0.000000                         NaN   \n",
       "North Carolina                              NaN                    0.014406   \n",
       "Puerto Rico                                 NaN                    0.000000   \n",
       "New Jersey                                  NaN                         NaN   \n",
       "Virginia                                    NaN                         NaN   \n",
       "\n",
       "                 Population 25 years and over - Less than 9th Grad Education   \\\n",
       "State                                                                           \n",
       "California                                                1.000000              \n",
       "Texas                                                     0.557900              \n",
       "Florida                                                   0.202355              \n",
       "New York                                                  0.257881              \n",
       "Pennsylvania                                              0.000000              \n",
       "Illinois                                                  0.062914              \n",
       "Georgia                                                   0.016007              \n",
       "Ohio                                                           NaN              \n",
       "Arizona                                                        NaN              \n",
       "Michigan                                                       NaN              \n",
       "North Carolina                                            0.014185              \n",
       "Puerto Rico                                               0.034833              \n",
       "New Jersey                                                0.006776              \n",
       "Virginia                                                       NaN              \n",
       "\n",
       "                 Population without Health Insurance    \n",
       "State                                                   \n",
       "California                                    0.540534  \n",
       "Texas                                         1.000000  \n",
       "Florida                                       0.472499  \n",
       "New York                                      0.100215  \n",
       "Pennsylvania                                  0.001794  \n",
       "Illinois                                      0.037140  \n",
       "Georgia                                       0.157508  \n",
       "Ohio                                               NaN  \n",
       "Arizona                                       0.003817  \n",
       "Michigan                                           NaN  \n",
       "North Carolina                                0.090379  \n",
       "Puerto Rico                                        NaN  \n",
       "New Jersey                                         NaN  \n",
       "Virginia                                      0.000000  "
      ]
     },
     "execution_count": 426,
     "metadata": {},
     "output_type": "execute_result"
    }
   ],
   "source": [
    "normilized_com_all = pd.read_csv(\"/Users/morganchunn/Desktop/normilized_data.csv\").set_index(\"State\")\n",
    "normilized_com_all            \n",
    "                                 "
   ]
  },
  {
   "cell_type": "markdown",
   "id": "c3689faa",
   "metadata": {},
   "source": [
    "Plot showing normalization of the above data. "
   ]
  },
  {
   "cell_type": "code",
   "execution_count": 427,
   "id": "e33a3553",
   "metadata": {},
   "outputs": [
    {
     "data": {
      "text/plain": [
       "<AxesSubplot:xlabel='State'>"
      ]
     },
     "execution_count": 427,
     "metadata": {},
     "output_type": "execute_result"
    },
    {
     "data": {
      "image/png": "[encoded data removed]",
      "text/plain": [
       "<Figure size 432x288 with 1 Axes>"
      ]
     },
     "metadata": {
      "needs_background": "light"
     },
     "output_type": "display_data"
    }
   ],
   "source": [
    "normilized_com_all.plot.bar()"
   ]
  },
  {
   "cell_type": "markdown",
   "id": "038fe0cb",
   "metadata": {},
   "source": [
    "# Comparing top states with high covid deaths to top states exhibiting no health insurance, limited education, and high poverty"
   ]
  },
  {
   "cell_type": "markdown",
   "id": "fcbcdc06",
   "metadata": {},
   "source": [
    "To compare whether or not each condition (no health insurance, limited education, high poverty) had correlation with high covid death rates, the top ten states exhibiting each condition were selected for. Those ten states are then compared to the top 10 states with the most covid related deaths. If there is overlap, there is evidence to believe the given conditon is an aiding factor in higher covid death rates. "
   ]
  },
  {
   "cell_type": "code",
   "execution_count": 428,
   "id": "5445a293",
   "metadata": {},
   "outputs": [
    {
     "data": {
      "text/plain": [
       "<AxesSubplot:ylabel='Condition'>"
      ]
     },
     "execution_count": 428,
     "metadata": {},
     "output_type": "execute_result"
    },
    {
     "data": {
      "image/png": "[encoded data removed]",
      "text/plain": [
       "<Figure size 432x288 with 1 Axes>"
      ]
     },
     "metadata": {
      "needs_background": "light"
     },
     "output_type": "display_data"
    }
   ],
   "source": [
    "#creates a simple dataframe to show true/false data\n",
    "propotion_data = pd.DataFrame({'Condition': ['proportion of states with high poverty in top 10 states with highest number of covid deaths', 'proportion of states with limited education in top 10 states with highest number of covid deaths', 'proportion of states with a population lacking insurance in top 10 states with highest number of covid deaths'], 'conditon_val':[8,7,8], 'total': [2,3,2]})\n",
    "#\"Condition\" is set as the data index and a horizontal, stacked bar graph is made\n",
    "propotion_data.set_index(\"Condition\").plot.barh(stacked=True)\n",
    "\n",
    "                                             "
   ]
  },
  {
   "cell_type": "markdown",
   "id": "1ee2b179",
   "metadata": {},
   "source": [
    "The above graph shows there is significant overlap between states with the highest covid related deaths and states exhibiting the given condition. "
   ]
  }
 ],
 "metadata": {
  "kernelspec": {
   "display_name": "Python 3 (ipykernel)",
   "language": "python",
   "name": "python3"
  },
  "language_info": {
   "codemirror_mode": {
    "name": "ipython",
    "version": 3
   },
   "file_extension": ".py",
   "mimetype": "text/x-python",
   "name": "python",
   "nbconvert_exporter": "python",
   "pygments_lexer": "ipython3",
   "version": "3.9.7"
  }
 },
 "nbformat": 4,
 "nbformat_minor": 5
}
