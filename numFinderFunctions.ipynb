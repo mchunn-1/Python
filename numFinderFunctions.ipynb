{
 "cells": [
  {
   "cell_type": "markdown",
   "metadata": {},
   "source": [
    "- The first function designed uses a brute-force approach. Loop through the entire set of numbers from 0-X, stopping when you've found the \"secret\" number\n",
    "- The second function starts at the midpoint of the range 0 to X, and asks if the secret number is smaller or larger than the midpoint. Based on that answer, the next midpoint is found and the question is asked again, repeating this process until the secret number is found."
   ]
  },
  {
   "cell_type": "code",
   "execution_count": 1,
   "metadata": {},
   "outputs": [],
   "source": [
    "#setup cell, run me first. Generates and returns an integer between\n",
    "#   0 and upperbound\n",
    "import random as r\n",
    "\n",
    "def makeSecretNum(upperbound):\n",
    "    return r.randint(0,upperbound)"
   ]
  },
  {
   "cell_type": "markdown",
   "metadata": {},
   "source": [
    "### Search function #1"
   ]
  },
  {
   "cell_type": "code",
   "execution_count": 2,
   "metadata": {},
   "outputs": [
    {
     "name": "stdout",
     "output_type": "stream",
     "text": [
      "CPU times: user 3 µs, sys: 2 µs, total: 5 µs\n",
      "Wall time: 10 µs\n",
      "enter value for upperbound 5000\n",
      "279\n"
     ]
    }
   ],
   "source": [
    "#sets up our definition \n",
    "\n",
    "#magic used to get performance time \n",
    "%time\n",
    "\n",
    "def bruteForce(upperbound, ranNumber):\n",
    "    #sets up a range to loop\n",
    "    for i in range(0,upperbound):\n",
    "        #when value is equal to random integer it is printed\n",
    "        if i == ranNumber:\n",
    "            print(ranNumber)\n",
    "#has user give an upperbound for the range \n",
    "upperbound= int(input(\"enter value for upperbound \")) \n",
    "#calls on the fuction from setup cell \n",
    "ranNumber = makeSecretNum(upperbound)\n",
    "#calls on the brute force function \n",
    "bruteForce(upperbound,ranNumber)"
   ]
  },
  {
   "cell_type": "markdown",
   "metadata": {},
   "source": [
    "This function uses a for loop to search through a range on numbers determined by users imput of the upper bound. The random number generated from the makeSecretNum function is search for and printed out.\n",
    "\n"
   ]
  },
  {
   "cell_type": "markdown",
   "metadata": {},
   "source": [
    "### Search function #2"
   ]
  },
  {
   "cell_type": "code",
   "execution_count": 3,
   "metadata": {},
   "outputs": [
    {
     "name": "stdout",
     "output_type": "stream",
     "text": [
      "CPU times: user 3 µs, sys: 0 ns, total: 3 µs\n",
      "Wall time: 5.25 µs\n",
      "279\n"
     ]
    }
   ],
   "source": [
    "#magic used to get performance time \n",
    "%time\n",
    "\n",
    "def midPoint(upperbound, ranNumber):\n",
    "    #sets up start and midpoint varibles \n",
    "    start = 0\n",
    "    midpoint = 0\n",
    "    #sets up loop for if the random number is not the midpoint \n",
    "    while ranNumber != midpoint:\n",
    "        #defines midpoint as being half of the upperbound value \n",
    "        midpoint = (start + upperbound)//2\n",
    "        if ranNumber < midpoint: \n",
    "            #if random number is less than midpoint, midpoint value becomes upperbound \n",
    "            upperbound = midpoint \n",
    "        elif ranNumber > midpoint:\n",
    "            #if random number is greater than midpoint, midpoint value becomes the start point \n",
    "            start = midpoint  \n",
    "    else: \n",
    "        ranNumber == midpoint\n",
    "        print (midpoint)\n",
    "#calls on function \n",
    "midPoint(upperbound, ranNumber)"
   ]
  },
  {
   "cell_type": "markdown",
   "metadata": {},
   "source": [
    "This function uses a while loop to continually search for the secret number until it is found through considering if the secret number is greaster than or less than the midpoint of the range.\n",
    "\n"
   ]
  }
 ],
 "metadata": {
  "kernelspec": {
   "display_name": "Python 3 (ipykernel)",
   "language": "python",
   "name": "python3"
  },
  "language_info": {
   "codemirror_mode": {
    "name": "ipython",
    "version": 3
   },
   "file_extension": ".py",
   "mimetype": "text/x-python",
   "name": "python",
   "nbconvert_exporter": "python",
   "pygments_lexer": "ipython3",
   "version": "3.9.7"
  }
 },
 "nbformat": 4,
 "nbformat_minor": 2
}
