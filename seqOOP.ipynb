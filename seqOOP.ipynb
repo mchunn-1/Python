{
 "cells": [
  {
   "cell_type": "markdown",
   "metadata": {},
   "source": [
    "\n",
    "## Part 1 - Sequence Class\n"
   ]
  },
  {
   "cell_type": "code",
   "execution_count": 185,
   "metadata": {},
   "outputs": [],
   "source": [
    "from functools import total_ordering\n",
    "# total_ordering decorator extrapolates the meanings of le, ge, gt based \n",
    "# on the overriden eq and lt methods\n",
    "\n",
    "@total_ordering\n",
    "class Sequence(str):\n",
    "    \n",
    "    #object method, self is required to be first argument\n",
    "    def __init__(self,seq):\n",
    "        # put self. to define attribute\n",
    "        # without self., any variable is a local variable... not attribute \n",
    "        self.seq = seq\n",
    "        \n",
    "    #overriding\n",
    "    # informal conversion to a string\n",
    "    def __str__(self):\n",
    "        return self.seq\n",
    "    # formal converstion to a string \n",
    "    def __repr__(self):\n",
    "        return f'Sequence ({self.seq})'\n",
    "    \n",
    "    #overriding __eq__ to define criteria\n",
    "    def __eq__(self,other):\n",
    "        return self.seq == other.seq and self.seq == other.seq\n",
    "    def __lt__(self,other):\n",
    "        return self.seq < other.seq\n",
    "    \n",
    "    def __len__(self):\n",
    "        return len(self.seq)\n",
    "    \n",
    "    def __add__(self,other):\n",
    "        return Sequence(self.seq + other.seq)\n",
    "    \n",
    "    def valid_base (self):\n",
    "        valid = \"ACTGU\" \n",
    "        for base in self:\n",
    "            if base not in valid:\n",
    "                return False\n",
    "            else:\n",
    "                return True\n",
    "        \n",
    "    def gcCount (self): \n",
    "        print ('G base count is ' + str(self.count(\"G\")) + ' and C base count is ' + str(self.count(\"C\")))\n",
    "        \n",
    "    def dna_to_protein_count (self): \n",
    "        d = {}\n",
    "        aa_dict = {'M':['ATG'], 'F':['TTT', 'TTC'], 'L':['TTA', 'TTG', 'CTT', 'CTC', 'CTA', 'CTG'],\n",
    "                   'C':['TGT', 'TGC'], 'Y':['TAC', 'TAT'], 'W':['TGG'], 'P':['CCT', 'CCC', 'CCA', 'CCG'],\n",
    "                   'H':['CAT', 'CAC'],'Q':['CAA', 'CAG'], 'R':['CGT', 'CGC', 'CGA', 'CGG', 'AGA', 'AGG'],\n",
    "                   'I':['ATT', 'ATC', 'ATA'], 'T':['ACT', 'ACC', 'ACA', 'ACG'],'N':['AAT', 'AAC'], \n",
    "                   'K':['AAA', 'AAG'], 'S':['AGT', 'AGC', 'TCT', 'TCC', 'TCA', 'TCG'],\n",
    "                   'V':['GTT', 'GTC', 'GTA', 'GTG'],'A':['GCT', 'GCC', 'GCA', 'GCG'], 'D':['GAT', 'GAC'],\n",
    "                   'E':['GAA', 'GAG'], 'G':['GGT', 'GGC', 'GGA', 'GGG'],'*':['TAA','TAG','TGA']}\n",
    "        for b in range (0, len(self), 3):\n",
    "            #codon is established for every three characters\n",
    "            codon = self[b:b+3]\n",
    "            #the amino acid dictionary is searched through to find the codon's corresponding amino acid \n",
    "            for aa, codons in aa_dict.items():\n",
    "                #when the codon is found in the dictionary, it's corresponding amino acid count is added to\n",
    "                if codon in codons and aa in d.keys(): \n",
    "                    d[aa] += 1\n",
    "                elif codon in codons:\n",
    "                    d[aa] = 1\n",
    "        return (d)\n",
    "   \n",
    "    def dna_to_protein (self): \n",
    "        c = ''\n",
    "        aa_dict = {'M':['ATG'], 'F':['TTT', 'TTC'], 'L':['TTA', 'TTG', 'CTT', 'CTC', 'CTA', 'CTG'],\n",
    "                   'C':['TGT', 'TGC'], 'Y':['TAC', 'TAT'], 'W':['TGG'], 'P':['CCT', 'CCC', 'CCA', 'CCG'],\n",
    "                   'H':['CAT', 'CAC'],'Q':['CAA', 'CAG'], 'R':['CGT', 'CGC', 'CGA', 'CGG', 'AGA', 'AGG'],\n",
    "                   'I':['ATT', 'ATC', 'ATA'], 'T':['ACT', 'ACC', 'ACA', 'ACG'],'N':['AAT', 'AAC'], \n",
    "                   'K':['AAA', 'AAG'], 'S':['AGT', 'AGC', 'TCT', 'TCC', 'TCA', 'TCG'],\n",
    "                   'V':['GTT', 'GTC', 'GTA', 'GTG'],'A':['GCT', 'GCC', 'GCA', 'GCG'], 'D':['GAT', 'GAC'],\n",
    "                   'E':['GAA', 'GAG'], 'G':['GGT', 'GGC', 'GGA', 'GGG'],'*':['TAA','TAG','TGA']}\n",
    "        for b in range (0, len(self), 3):\n",
    "            #codon is established for every three characters\n",
    "            codon = self[b:b+3]\n",
    "            #the amino acid dictionary is searched through to find the codon's corresponding amino acid \n",
    "            for aa, codons in aa_dict.items():\n",
    "                #when the codon is found in the dictionary, it's corresponding amino acid count is added to\n",
    "                if codon in codons and aa in aa_dict.keys(): \n",
    "                    c += aa\n",
    "        return (c)\n",
    "       \n"
   ]
  },
  {
   "cell_type": "markdown",
   "metadata": {},
   "source": [
    "The above cell creates a class called Sequence that is then used in the below cell to test methods. A sample base sequence is assigned to a variable below and that varible is used to create Sequence objects."
   ]
  },
  {
   "cell_type": "code",
   "execution_count": 186,
   "metadata": {
    "scrolled": true
   },
   "outputs": [
    {
     "name": "stdout",
     "output_type": "stream",
     "text": [
      "AGGGTC\n",
      "Sequence (CCTTTAAAAGGTTCTCTG)\n",
      "False\n",
      "False\n",
      "6\n",
      "18\n",
      "AGGGTCAGGGTTCCTTCA\n",
      ">seq1AAGGGTC\n",
      ">seq1B AGGGTTCCTTCA\n",
      "G base count is 3 and C base count is 1\n"
     ]
    },
    {
     "data": {
      "text/plain": [
       "True"
      ]
     },
     "execution_count": 186,
     "metadata": {},
     "output_type": "execute_result"
    }
   ],
   "source": [
    "#Use this cell for testing your Sequence class. Show us what tests you ran to confirm your methods worked correctly\n",
    "A = \"AGGGTC\"\n",
    "B = \"AGGGTTCCTTCA\"\n",
    "C = \"GGCCTTTTAAATTTC\"\n",
    "D = \"CCTTTAAAAGGTTCTCTG\"\n",
    "\n",
    "header_A = \">seq1A\"\n",
    "header_B = \">seq1B\"\n",
    "header_C = \">seq1C\"\n",
    "header_D = \">seq1D\"\n",
    "\n",
    "#creates objects from the strings\n",
    "seqA = Sequence(A)\n",
    "seqB = Sequence(B)\n",
    "seqC = Sequence(C)\n",
    "seqD = Sequence(D)\n",
    "\n",
    "label_A= Sequence(header_A)\n",
    "label_B = Sequence(header_B)\n",
    "label_C = Sequence(header_C)\n",
    "label_D = Sequence(header_D)\n",
    "\n",
    "\n",
    "#prints out the sequence given to the varibable above  \n",
    "print(seqA)\n",
    "print(repr(seqD))\n",
    "#with compare seqA to seqB and see if they are equal.. it should be false\n",
    "print(seqA == seqB)\n",
    "#will see if seqC is less than seqB (length).. it should be false \n",
    "print(seqC < seqB)\n",
    "\n",
    "#gives the length of the Sequence object\n",
    "print(len(seqA))\n",
    "print(len(seqD))\n",
    "\n",
    "#adds together two Sequence objects \n",
    "print(seqA+seqB)\n",
    "print(label_A + seqA)\n",
    "print(str(label_B) + \" \" + str(seqB))\n",
    "\n",
    "seqA.gcCount()\n",
    "\n",
    "#shows that seqA is a class\n",
    "isinstance(seqA,Sequence)\n"
   ]
  },
  {
   "cell_type": "code",
   "execution_count": 187,
   "metadata": {},
   "outputs": [
    {
     "data": {
      "text/plain": [
       "True"
      ]
     },
     "execution_count": 187,
     "metadata": {},
     "output_type": "execute_result"
    }
   ],
   "source": [
    "seqA.valid_base()"
   ]
  },
  {
   "cell_type": "code",
   "execution_count": 191,
   "metadata": {},
   "outputs": [
    {
     "data": {
      "text/plain": [
       "{'P': 1, 'L': 2, 'K': 1, 'G': 1, 'S': 1}"
      ]
     },
     "execution_count": 191,
     "metadata": {},
     "output_type": "execute_result"
    }
   ],
   "source": [
    "seqD.dna_to_protein_count()"
   ]
  },
  {
   "cell_type": "code",
   "execution_count": 190,
   "metadata": {},
   "outputs": [
    {
     "data": {
      "text/plain": [
       "'PLKGSL'"
      ]
     },
     "execution_count": 190,
     "metadata": {},
     "output_type": "execute_result"
    }
   ],
   "source": [
    "seqD.dna_to_protein()"
   ]
  },
  {
   "cell_type": "markdown",
   "metadata": {},
   "source": [
    "## Part 2 - SequenceRecord Class\n"
   ]
  },
  {
   "cell_type": "code",
   "execution_count": 34,
   "metadata": {},
   "outputs": [],
   "source": [
    "class SequenceRecord(object):\n",
    "    \n",
    "    #object method, self is required to be first argument\n",
    "    def __init__(self,header,seq):\n",
    "        # put self. to define attribute\n",
    "        # without self., any variable is a local variable... not attribute \n",
    "        self.header = header\n",
    "        self.seq = seq\n",
    "        \n",
    "    #overriding\n",
    "    # informal conversion to a string\n",
    "    def __str__(self):\n",
    "        return (self.seq) \n",
    "    # formal converstion to a string  \n",
    "    def __repr__(self):\n",
    "        return f'SequenceRecord: ({self.header},{self.seq})'\n"
   ]
  },
  {
   "cell_type": "markdown",
   "metadata": {},
   "source": [
    "The below cell is used to test SequenceRecord class that was defined above."
   ]
  },
  {
   "cell_type": "code",
   "execution_count": 35,
   "metadata": {},
   "outputs": [
    {
     "name": "stdout",
     "output_type": "stream",
     "text": [
      "SequenceRecord: (>seq1,AGGGTTCCCA)\n",
      "True\n",
      "False\n"
     ]
    }
   ],
   "source": [
    "#will give us the sequnce opject seqA from above and a header\n",
    "seqRecord = SequenceRecord(seq= seqA, header = \">seq1\")\n",
    "#this uses the formal conversion to a string\n",
    "print(repr(seqRecord))\n",
    "\n",
    "#this shows that while the header is a string, seq is a Sequence object\n",
    "print(type(seqRecord.header) == str)\n",
    "print(type(seqRecord.seq) == str)\n",
    "\n",
    "\n"
   ]
  },
  {
   "cell_type": "markdown",
   "metadata": {},
   "source": [
    "## Part 3 - Parsing using classes"
   ]
  },
  {
   "cell_type": "code",
   "execution_count": 36,
   "metadata": {
    "scrolled": true
   },
   "outputs": [
    {
     "name": "stdout",
     "output_type": "stream",
     "text": [
      "SequenceRecord: (seq1A,ATGTGCATTCAAGCTGTAAGAAGCCACGATTGGCTATGTGTGCTTTGGTCTCTTTGAAGATGGAT)\n",
      "SequenceRecord: (seq2A,ATGACCGTGCCACCTATCAAGCTTGCAAAAGGCATTATCACCGTCTCAGATTGTGGGGTTAAATACGAGTACATGGTTAAAGACATTGGA)\n",
      "SequenceRecord: (seq3A,ATGGGAGCGCTTCAAACACTTGGTCCCATGCTTTTGTCCAACCCTACCCTGCCTTCAAATCGTTTTACTAATGGGGAAGCAAAGCTTGGTTTGGTATACAGTAAACAGCATATCT)\n"
     ]
    }
   ],
   "source": [
    "def fastaParser():\n",
    "    #opens the sample file \n",
    "    with open(\"sample.fa\") as fh:\n",
    "\n",
    "        #sets up place to store \n",
    "        header = \"\"\n",
    "        sequence = \"\"\n",
    "        #looks through the file line by line\n",
    "        for line in fh:\n",
    "\n",
    "            line = line.strip()\n",
    "            \n",
    "            if line.startswith(\">\"):\n",
    "                if len(header) > 0:\n",
    "                    #only greater than 0 if you've already read a header line in... \n",
    "                    yield (header,sequence)\n",
    "                    sequence = \"\"\n",
    "\n",
    "                #line is a header\n",
    "                header = line.lstrip(\">\")\n",
    "            \n",
    "            else:\n",
    "                #line is a sequence line\n",
    "                sequence += line.strip()\n",
    "        #need this bc if not the last seq wont be printed bc the trigger for yield above is theh next >... there is not next for the last seq\n",
    "        yield(header,sequence)\n",
    "               \n",
    "\n",
    "for header,seq in fastaParser():\n",
    "    print(repr(SequenceRecord(header,seq)))\n",
    "    \n"
   ]
  },
  {
   "cell_type": "markdown",
   "metadata": {},
   "source": [
    "In the above cell, a FASTA parser is written as a generator. The parser will use the sample file and separate out sequence names and the base sequence itself. "
   ]
  },
  {
   "cell_type": "code",
   "execution_count": null,
   "metadata": {},
   "outputs": [],
   "source": []
  }
 ],
 "metadata": {
  "kernelspec": {
   "display_name": "Python 3 (ipykernel)",
   "language": "python",
   "name": "python3"
  },
  "language_info": {
   "codemirror_mode": {
    "name": "ipython",
    "version": 3
   },
   "file_extension": ".py",
   "mimetype": "text/x-python",
   "name": "python",
   "nbconvert_exporter": "python",
   "pygments_lexer": "ipython3",
   "version": "3.9.7"
  }
 },
 "nbformat": 4,
 "nbformat_minor": 4
}
