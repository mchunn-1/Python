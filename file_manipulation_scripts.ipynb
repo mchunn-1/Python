{
 "cells": [
  {
   "cell_type": "code",
   "execution_count": null,
   "id": "43372d47",
   "metadata": {},
   "outputs": [],
   "source": [
    "#using the Salmon and Diamond output files from ORP, this code will assign the gene ID found by Diamond to \n",
    "#the correct Name/info from Salmon \n",
    "import pandas as pd\n",
    "\n",
    "#load the two files into data frames\n",
    "salmon_df = pd.read_csv(\"dero_salmon.csv\")\n",
    "diamond_df = pd.read_csv(\"dero.ORP.diamond.csv\")\n",
    "\n",
    "#merge the two dataframes based on the Name column\n",
    "merged_df = pd.merge(salmon_df, diamond_df, on=\"Name\", how=\"inner\")\n",
    "\n",
    "#selects only certain columns to show up in the final df\n",
    "output_df = merged_df[[\"ID\",\"Name\", \"Length\", \"EffectiveLength\", \"TPM\", \"NumReads\"]]\n",
    "\n",
    "print(output_df)\n",
    "\n",
    "#saves the resulting df to a csv file\n",
    "#output_df.to_csv(\"deroSDmerged.csv\", index=False)"
   ]
  },
  {
   "cell_type": "code",
   "execution_count": null,
   "id": "672bcc0a",
   "metadata": {},
   "outputs": [],
   "source": [
    "#this code will merge the output summerization files from tximport into a single counts file compatible with DeSeq\n",
    "import pandas as pd\n",
    "import numpy as np\n",
    "\n",
    "file_names = [\"chviCounts.csv\", \"cabrCounts.csv\", \"stluCounts.csv\", \n",
    "              \"arjaCounts.csv\", \"lothCounts.csv\", \n",
    "              \"angeCounts.csv\", \"glsoCounts.csv\", \n",
    "              \"noleCounts.csv\", \"moblCounts.csv\", \n",
    "              \"mawaCounts.csv\", \"ptpaCounts.csv\", \n",
    "              \"deroCounts.csv\"]\n",
    "\n",
    "# Create an empty DataFrame to store the merged data\n",
    "merged_data = pd.DataFrame(columns=[\"ID\"])\n",
    "\n",
    "# Loop through each file and merge its data with the existing merged data\n",
    "for file in file_names:\n",
    "    data = pd.read_csv(file)\n",
    "    merged_data = pd.merge(merged_data, data, on=\"ID\", how=\"outer\")\n",
    "\n",
    "# Fill NaN values with 0\n",
    "merged_data.fillna(0, inplace=True)\n",
    "\n",
    "print(merged_data)\n",
    "# Write the merged data to a new CSV file\n",
    "#merged_data.to_csv(\"merged_data.csv\", index=False)\n",
    "\n"
   ]
  },
  {
   "cell_type": "code",
   "execution_count": null,
   "id": "d143099f",
   "metadata": {},
   "outputs": [],
   "source": [
    "#this code will merge the output summerization files from tximport into a single counts file compatible with DeSeq\n",
    "import pandas as pd\n",
    "import numpy as np\n",
    "\n",
    "#create a list of all the file names \n",
    "file_names = [\"chvi_summerization.csv\", \"cabr_summerization.csv\", \"stlu_summerization.csv\", \"arja_summerization.csv\", \"loth_summerization.csv\", \"ange_summerization.csv\", \"glso_summerization.csv\", \"nole_summerization.csv\", \"mobl_summerization.csv\", \"mawa_summerization.csv\", \"ptpa_summerization.csv\", \"dero_summerization.csv\"]\n",
    "\n",
    "#starts by putting the first file into the dataframe\n",
    "merged_df = pd.read_csv(file_names[0], index_col=\"ID\")\n",
    "\n",
    "#now the remaining files will be looped through\n",
    "#the files get added to the main merged df in the end \n",
    "for file_name in file_names[1:]:\n",
    "    #the file is loaded into a df\n",
    "    df = pd.read_csv(file_name, index_col=\"ID\")\n",
    "    #file gets merged into the main dataframe\n",
    "    #missing values are filled with 0 to keep all IDs\n",
    "    merged_df = merged_df.join(df, how=\"outer\", rsuffix=\"_\" + file_name[:-4]).fillna(0)\n",
    "\n",
    "#save to a new file... these vaules will be raw/unrounded.. DeSeq needs integers\n",
    "#merged_df.to_csv(\"mergedCountFiles.csv\", index=True)\n",
    "\n",
    "merged_df_integers = merged_df.round(0)\n",
    "print(merged_df_integers)\n",
    "#merged_df_integers.to_csv(\"roundedMergedCountFile.csv\", index=True)\n"
   ]
  },
  {
   "cell_type": "code",
   "execution_count": null,
   "id": "bcadea53",
   "metadata": {},
   "outputs": [],
   "source": [
    "#this makes the previous file vaules into boolean.. either the species expresses the gene (1) or it doesn't (0)\n",
    "import pandas as pd\n",
    "\n",
    "#reads in the csv file \n",
    "df = pd.read_csv('roundedMergedCountFile.csv')\n",
    "\n",
    "#replaces all vaules in the\n",
    "#astype converts the boolean T/F to integers 1/0\n",
    "df.iloc[:, 1:] = (df.iloc[:, 1:] != 0).astype(int)\n",
    "\n",
    "print(df)\n",
    "#make a new file with the updated df\n",
    "df.to_csv('countsFileBoolean.csv', index=False)"
   ]
  },
  {
   "cell_type": "code",
   "execution_count": null,
   "id": "0d614fff",
   "metadata": {},
   "outputs": [],
   "source": [
    "import pandas as pd\n",
    "df = pd.read_csv('countsFileBoolean.csv')\n",
    "\n",
    "#iterate over the columns and drop rows with exact value \"0\"\n",
    "for col in df.columns:\n",
    "    df = df[df[col] != 0]\n",
    "\n",
    "# reset the index after removing rows\n",
    "df.reset_index(drop=True, inplace=True)\n",
    "\n",
    "# write the updated DataFrame to a new CSV file\n",
    "df.to_csv('updated_file_name.csv', index=False)"
   ]
  }
 ],
 "metadata": {
  "kernelspec": {
   "display_name": "Python 3 (ipykernel)",
   "language": "python",
   "name": "python3"
  },
  "language_info": {
   "codemirror_mode": {
    "name": "ipython",
    "version": 3
   },
   "file_extension": ".py",
   "mimetype": "text/x-python",
   "name": "python",
   "nbconvert_exporter": "python",
   "pygments_lexer": "ipython3",
   "version": "3.9.7"
  }
 },
 "nbformat": 4,
 "nbformat_minor": 5
}
